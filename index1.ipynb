{
 "cells": [
  {
   "cell_type": "markdown",
   "id": "9fe5523b-b511-4113-ac72-297c19926c1c",
   "metadata": {
    "tags": []
   },
   "source": [
    "## How to use this code\n",
    "\n",
    "- First, install the packages numpy and tqdm\n",
    "- Second, run the next cell\n",
    "- Third, change input parameters and output, and then run the last cell."
   ]
  },
  {
   "cell_type": "markdown",
   "id": "a81bb4a2-b298-4d1f-ae9d-b35d06f403f5",
   "metadata": {},
   "source": [
    "## Install packages"
   ]
  },
  {
   "cell_type": "code",
   "execution_count": null,
   "id": "73d30064-345a-4ee1-a7f9-111e418be253",
   "metadata": {
    "tags": []
   },
   "outputs": [],
   "source": [
    "%pip install numpy tqdm"
   ]
  },
  {
   "cell_type": "markdown",
   "id": "d29e5900-6f5f-45e5-bb74-c8f744e76fc9",
   "metadata": {
    "tags": []
   },
   "source": [
    "## Run this piece of code\n",
    "Run this cell to enable the Quaternion function"
   ]
  },
  {
   "cell_type": "code",
   "execution_count": 15,
   "id": "8ebe69f5-1b0e-47d5-bc7c-34640fb5b35e",
   "metadata": {
    "tags": []
   },
   "outputs": [],
   "source": [
    "import numpy as np\n",
    "import math\n",
    "from tqdm import tqdm\n",
    "\n",
    "\n",
    "TRADAT = np.zeros(8388608, dtype=np.float64)\n",
    "FDAT = np.zeros(8388608, dtype=np.float64)\n",
    "TRADATg = np.zeros(8388608, dtype=np.float64)\n",
    "\n",
    "\n",
    "def fNinner(N,J,am,ji,dpi,rci,cci,rmi,rci1,rci2,rci3):\n",
    "    \n",
    "    for I in range(0, N):\n",
    "        #th1 = dmod(I * 1.0 * (J + ji) / n, 1.0)  # Assuming dmod function is defined\n",
    "        # I+1 and J+1 due to Fortran Indexes\n",
    "        \n",
    "        th1 = ((I+1) * 1.0 * ((J+1) + ji) / N)%1  # Fractional part\n",
    "        gr = th1 * dpi\n",
    "        c1 = math.cos(gr)  # Assuming dcos function is defined\n",
    "        s1 = math.sin(gr)  # Assuming dsin function is defined\n",
    "\n",
    "        ff = math.exp(math.asinh(th1 / 2.0))  # Assuming exp and asinh functions are defined\n",
    "        wo = dpi * (ff - 1.0 / ff) / 2\n",
    "        wp = dpi * (ff + 1.0 / ff) / 2\n",
    "\n",
    "        z1 = math.cos(wp) * math.cos(wo)\n",
    "        z2 = math.sin(wp) * math.cos(wo)\n",
    "        z3 = math.cos(wp) * math.sin(wo)\n",
    "        z4 = math.sin(wp) * math.sin(wo)\n",
    "\n",
    "        rci += am[I] * c1\n",
    "        cci += am[I] * s1\n",
    "        rmi += am[I] * z1\n",
    "        rci2 += am[I] * z2\n",
    "        rci3 += am[I] * z3\n",
    "        rci1 += am[I] * z4      \n",
    "        \n",
    "    #return rci, cci, rmi, rci2, rci3, rci1\n",
    "    return rci,cci,rmi,rci1,rci2,rci3\n",
    "\n",
    "def quaternion(input_file,anuino,anufio,rti,tpas,output_file):\n",
    "\n",
    "    dpi = np.arctan(1.0) * 8.0\n",
    "    wo = wp = th = gr = st = rci1 = rci2 = rci3 = rmi = 0.0\n",
    "\n",
    "    AM = np.zeros(8388608, dtype=np.float64)\n",
    "    \n",
    "    print(\"file, initial frequency, final frequency, days, sampling(sec)\",(input_file,anuino,anufio,rti,tpas))\n",
    "\n",
    "\n",
    "    n = rti * 86400.0 / (1 * tpas)\n",
    "    nw = math.log(n * 1.0) / math.log(2.0)\n",
    "\n",
    "\n",
    "    am = np.zeros(int(n))\n",
    "    AMEDI = 0\n",
    "\n",
    "\n",
    "    with open(input_file, 'r') as file:\n",
    "        for I in range(0, int(n)):\n",
    "            line = file.readline().split()\n",
    "            if not line:\n",
    "                pass\n",
    "            else:\n",
    "                am[I] = float(line[0])\n",
    "                AMEDI += am[I]\n",
    "\n",
    "    print (AMEDI, am,len(am),int(n))\n",
    "\n",
    "\n",
    "\n",
    "    N = int(n)\n",
    "    AMEDI = AMEDI / N\n",
    "\n",
    "    sig = 0.0\n",
    "\n",
    "    for I in range(0, N):\n",
    "        sig += (am[I] - AMEDI)**2\n",
    "\n",
    "    sig = math.sqrt(sig / N)\n",
    "\n",
    "    #print(sig,AMEDI,N)\n",
    "\n",
    "    fny = 1000000.0 / (2 * tpas)\n",
    "    delnu = 1.0e6 / (n * tpas)\n",
    "    ji = math.floor(anuino / delnu)\n",
    "    anuin = ji * delnu\n",
    "    jf = math.floor(anufio / delnu)\n",
    "    NP = jf - ji\n",
    "\n",
    "    #print('Frequencies, data, days, Ny')\n",
    "    #print(NP, N, N * tpas / 86400.0, fny)\n",
    "\n",
    "    F = anuin\n",
    "    BMAX = 0.0\n",
    "\n",
    "    it = 0\n",
    "    print(\"Iterations: \",NP,\"x\",N,\"=\",NP*N)\n",
    "    for J in tqdm(range(0, NP),desc=\"NP\",leave=False):\n",
    "        rci = 0.0\n",
    "        cci = 0.0\n",
    "        rmi = 0.0\n",
    "        rci1 = 0.0\n",
    "        rci2 = 0.0\n",
    "        rci3 = 0.0\n",
    "\n",
    "        rci,cci,rmi,rci1,rci2,rci3 = fNinner(N,J,am,ji,dpi,rci,cci,rmi,rci1,rci2,rci3)\n",
    "        \n",
    "        rci = rci * 2.0 / n\n",
    "        cci = cci * 2.0 / n\n",
    "        rmi = rmi * 2.0 / n\n",
    "        rci2 = rci2 * 2.0 / n\n",
    "        rci3 = rci3 * 2.0 / n\n",
    "        rci1 = rci1 * 2.0 / n\n",
    "\n",
    "        b = rci**2 + cci**2\n",
    "        Bg = rmi**2 + (rci2**2 + rci1**2 + rci3**2)\n",
    "\n",
    "        F = anuin + (J - 1) * delnu\n",
    "        if Bg > BMAX:\n",
    "            FMAX = F\n",
    "            BMAX = Bg\n",
    "            jmax = J\n",
    "\n",
    "        FDAT[J] = float(F)\n",
    "        TRADAT[J] = float(b)\n",
    "        TRADATg[J] = float(Bg)\n",
    "    \n",
    "    with open(output_file, 'w') as file_out:\n",
    "        for I in range(0, NP):\n",
    "            file_out.write(f\"{FDAT[I]} {TRADAT[I]} {TRADATg[I]}\\n\")\n",
    "\n",
    "    return FDAT,TRADAT,TRADATg\n",
    "\n"
   ]
  },
  {
   "cell_type": "markdown",
   "id": "d55ef310-223b-4f01-821b-874594ecdc0f",
   "metadata": {},
   "source": [
    "## Configure input parameters and output file\n",
    "Modify these params and then run the next cell.\n",
    "⚠️ This process will take about 2 hours."
   ]
  },
  {
   "cell_type": "code",
   "execution_count": 12,
   "id": "639b4846-1990-480a-a667-87cfdf84f78a",
   "metadata": {
    "tags": []
   },
   "outputs": [
    {
     "name": "stdout",
     "output_type": "stream",
     "text": [
      "file, initial frequency, final frequency, days, sampling(sec) ('golfsel1.dat', 0, 25000, 16, 20)\n",
      "220.08713077037356 [-2.469217  -1.843824  -2.684059  ... -0.2706652 -1.152164  -1.799899 ] 69120 69120\n",
      "Iterations:  34560 x 69120 = 2388787200\n"
     ]
    },
    {
     "name": "stderr",
     "output_type": "stream",
     "text": [
      "                                                                                                                                                 \r"
     ]
    },
    {
     "ename": "KeyboardInterrupt",
     "evalue": "",
     "output_type": "error",
     "traceback": [
      "\u001b[0;31m---------------------------------------------------------------------------\u001b[0m",
      "\u001b[0;31mKeyboardInterrupt\u001b[0m                         Traceback (most recent call last)",
      "Cell \u001b[0;32mIn[12], line 8\u001b[0m\n\u001b[1;32m      5\u001b[0m rti \u001b[38;5;241m=\u001b[39m \u001b[38;5;241m16\u001b[39m\n\u001b[1;32m      6\u001b[0m tpas \u001b[38;5;241m=\u001b[39m \u001b[38;5;241m20\u001b[39m\n\u001b[0;32m----> 8\u001b[0m FDAT,TRADAT,TRADATg \u001b[38;5;241m=\u001b[39m \u001b[43mquaternion\u001b[49m\u001b[43m(\u001b[49m\u001b[43minput_file\u001b[49m\u001b[43m,\u001b[49m\u001b[43manuino\u001b[49m\u001b[43m,\u001b[49m\u001b[43manufio\u001b[49m\u001b[43m,\u001b[49m\u001b[43mrti\u001b[49m\u001b[43m,\u001b[49m\u001b[43mtpas\u001b[49m\u001b[43m,\u001b[49m\u001b[43moutput_file\u001b[49m\u001b[43m)\u001b[49m\n",
      "Cell \u001b[0;32mIn[11], line 102\u001b[0m, in \u001b[0;36mquaternion\u001b[0;34m(input_file, anuino, anufio, rti, tpas, output_file)\u001b[0m\n\u001b[1;32m     99\u001b[0m rci2 \u001b[38;5;241m=\u001b[39m \u001b[38;5;241m0.0\u001b[39m\n\u001b[1;32m    100\u001b[0m rci3 \u001b[38;5;241m=\u001b[39m \u001b[38;5;241m0.0\u001b[39m\n\u001b[0;32m--> 102\u001b[0m rci,cci,rmi,rci1,rci2,rci3 \u001b[38;5;241m=\u001b[39m \u001b[43mfNinner\u001b[49m\u001b[43m(\u001b[49m\u001b[43mN\u001b[49m\u001b[43m,\u001b[49m\u001b[43mJ\u001b[49m\u001b[43m,\u001b[49m\u001b[43mam\u001b[49m\u001b[43m,\u001b[49m\u001b[43mji\u001b[49m\u001b[43m,\u001b[49m\u001b[43mdpi\u001b[49m\u001b[43m,\u001b[49m\u001b[43mrci\u001b[49m\u001b[43m,\u001b[49m\u001b[43mcci\u001b[49m\u001b[43m,\u001b[49m\u001b[43mrmi\u001b[49m\u001b[43m,\u001b[49m\u001b[43mrci1\u001b[49m\u001b[43m,\u001b[49m\u001b[43mrci2\u001b[49m\u001b[43m,\u001b[49m\u001b[43mrci3\u001b[49m\u001b[43m)\u001b[49m\n\u001b[1;32m    104\u001b[0m rci \u001b[38;5;241m=\u001b[39m rci \u001b[38;5;241m*\u001b[39m \u001b[38;5;241m2.0\u001b[39m \u001b[38;5;241m/\u001b[39m n\n\u001b[1;32m    105\u001b[0m cci \u001b[38;5;241m=\u001b[39m cci \u001b[38;5;241m*\u001b[39m \u001b[38;5;241m2.0\u001b[39m \u001b[38;5;241m/\u001b[39m n\n",
      "Cell \u001b[0;32mIn[11], line 14\u001b[0m, in \u001b[0;36mfNinner\u001b[0;34m(N, J, am, ji, dpi, rci, cci, rmi, rci1, rci2, rci3)\u001b[0m\n\u001b[1;32m     12\u001b[0m th1 \u001b[38;5;241m=\u001b[39m ((I\u001b[38;5;241m+\u001b[39m\u001b[38;5;241m1\u001b[39m) \u001b[38;5;241m*\u001b[39m \u001b[38;5;241m1.0\u001b[39m \u001b[38;5;241m*\u001b[39m ((J\u001b[38;5;241m+\u001b[39m\u001b[38;5;241m1\u001b[39m) \u001b[38;5;241m+\u001b[39m ji) \u001b[38;5;241m/\u001b[39m N)\u001b[38;5;241m%\u001b[39m\u001b[38;5;241m1\u001b[39m  \u001b[38;5;66;03m# Fractional part\u001b[39;00m\n\u001b[1;32m     13\u001b[0m gr \u001b[38;5;241m=\u001b[39m th1 \u001b[38;5;241m*\u001b[39m dpi\n\u001b[0;32m---> 14\u001b[0m c1 \u001b[38;5;241m=\u001b[39m math\u001b[38;5;241m.\u001b[39mcos(gr)  \u001b[38;5;66;03m# Assuming dcos function is defined\u001b[39;00m\n\u001b[1;32m     15\u001b[0m s1 \u001b[38;5;241m=\u001b[39m math\u001b[38;5;241m.\u001b[39msin(gr)  \u001b[38;5;66;03m# Assuming dsin function is defined\u001b[39;00m\n\u001b[1;32m     17\u001b[0m ff \u001b[38;5;241m=\u001b[39m math\u001b[38;5;241m.\u001b[39mexp(math\u001b[38;5;241m.\u001b[39masinh(th1 \u001b[38;5;241m/\u001b[39m \u001b[38;5;241m2.0\u001b[39m))  \u001b[38;5;66;03m# Assuming exp and asinh functions are defined\u001b[39;00m\n",
      "\u001b[0;31mKeyboardInterrupt\u001b[0m: "
     ]
    }
   ],
   "source": [
    "output_file = 'ps_output.dgt'\n",
    "input_file = \"golfsel1.dat\"\n",
    "anuino = 0\n",
    "anufio = 25000\n",
    "rti = 16\n",
    "tpas = 20\n",
    "\n",
    "FDAT,TRADAT,TRADATg = quaternion(input_file,anuino,anufio,rti,tpas,output_file)"
   ]
  },
  {
   "cell_type": "code",
   "execution_count": null,
   "id": "dcf29f4e-015b-4456-a586-143aab2771df",
   "metadata": {},
   "outputs": [],
   "source": []
  }
 ],
 "metadata": {
  "kernelspec": {
   "display_name": "Python 3 (ipykernel)",
   "language": "python",
   "name": "python3"
  },
  "language_info": {
   "codemirror_mode": {
    "name": "ipython",
    "version": 3
   },
   "file_extension": ".py",
   "mimetype": "text/x-python",
   "name": "python",
   "nbconvert_exporter": "python",
   "pygments_lexer": "ipython3",
   "version": "3.11.5"
  }
 },
 "nbformat": 4,
 "nbformat_minor": 5
}
