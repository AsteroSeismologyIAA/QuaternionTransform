{
 "cells": [
  {
   "cell_type": "markdown",
   "id": "9fe5523b-b511-4113-ac72-297c19926c1c",
   "metadata": {
    "tags": []
   },
   "source": [
    "## How to use this code\n",
    "\n",
    "- First, install the packages numpy and tqdm\n",
    "- Second, run the next cell\n",
    "- Third, change input parameters and output, and then run the last cell."
   ]
  },
  {
   "cell_type": "markdown",
   "id": "a81bb4a2-b298-4d1f-ae9d-b35d06f403f5",
   "metadata": {},
   "source": [
    "## Install packages"
   ]
  },
  {
   "cell_type": "code",
   "execution_count": null,
   "id": "73d30064-345a-4ee1-a7f9-111e418be253",
   "metadata": {
    "tags": []
   },
   "outputs": [],
   "source": [
    "%pip install numpy tqdm matplotlib"
   ]
  },
  {
   "cell_type": "markdown",
   "id": "d29e5900-6f5f-45e5-bb74-c8f744e76fc9",
   "metadata": {
    "tags": []
   },
   "source": [
    "## Run this piece of code\n",
    "Run this cell to enable the Quaternion function"
   ]
  },
  {
   "cell_type": "code",
   "execution_count": null,
   "id": "8ebe69f5-1b0e-47d5-bc7c-34640fb5b35e",
   "metadata": {
    "tags": []
   },
   "outputs": [],
   "source": [
    "import numpy as np\n",
    "import math\n",
    "from tqdm import tqdm\n",
    "\n",
    "\n",
    "TRADAT = np.zeros(8388608, dtype=np.float64)\n",
    "FDAT = np.zeros(8388608, dtype=np.float64)\n",
    "TRADATg = np.zeros(8388608, dtype=np.float64)\n",
    "\n",
    "\n",
    "def fNinner(N,J,am,ji,dpi,rci,cci,rmi,rci1,rci2,rci3):\n",
    "    \n",
    "    for I in range(0, N):\n",
    "        #th1 = dmod(I * 1.0 * (J + ji) / n, 1.0)  # Assuming dmod function is defined\n",
    "        # I+1 and J+1 due to Fortran Indexes\n",
    "        \n",
    "        th1 = ((I+1) * 1.0 * ((J+1) + ji) / N)%1  # Fractional part\n",
    "        gr = th1 * dpi\n",
    "        c1 = math.cos(gr)  # Assuming dcos function is defined\n",
    "        s1 = math.sin(gr)  # Assuming dsin function is defined\n",
    "\n",
    "        ff = math.exp(math.asinh(th1 / 2.0))  # Assuming exp and asinh functions are defined\n",
    "        wo = dpi * (ff - 1.0 / ff) / 2\n",
    "        wp = dpi * (ff + 1.0 / ff) / 2\n",
    "\n",
    "        z1 = math.cos(wp) * math.cos(wo)\n",
    "        z2 = math.sin(wp) * math.cos(wo)\n",
    "        z3 = math.cos(wp) * math.sin(wo)\n",
    "        z4 = math.sin(wp) * math.sin(wo)\n",
    "\n",
    "        rci += am[I] * c1\n",
    "        cci += am[I] * s1\n",
    "        rmi += am[I] * z1\n",
    "        rci2 += am[I] * z2\n",
    "        rci3 += am[I] * z3\n",
    "        rci1 += am[I] * z4      \n",
    "        \n",
    "    #return rci, cci, rmi, rci2, rci3, rci1\n",
    "    return rci,cci,rmi,rci1,rci2,rci3\n",
    "\n",
    "def quaternion(input_file,anuino,anufio,rti,tpas,output_file):\n",
    "\n",
    "    dpi = np.arctan(1.0) * 8.0\n",
    "    wo = wp = th = gr = st = rci1 = rci2 = rci3 = rmi = 0.0\n",
    "\n",
    "    AM = np.zeros(8388608, dtype=np.float64)\n",
    "    \n",
    "    print(\"file, initial frequency, final frequency, days, sampling(sec)\",(input_file,anuino,anufio,rti,tpas))\n",
    "\n",
    "\n",
    "    n = rti * 86400.0 / (1 * tpas)\n",
    "    nw = math.log(n * 1.0) / math.log(2.0)\n",
    "\n",
    "\n",
    "    am = np.zeros(int(n))\n",
    "    AMEDI = 0\n",
    "\n",
    "\n",
    "    with open(input_file, 'r') as file:\n",
    "        for I in range(0, int(n)):\n",
    "            line = file.readline().split()\n",
    "            if not line:\n",
    "                pass\n",
    "            else:\n",
    "                am[I] = float(line[0])\n",
    "                AMEDI += am[I]\n",
    "\n",
    "    print (AMEDI, am,len(am),int(n))\n",
    "\n",
    "\n",
    "\n",
    "    N = int(n)\n",
    "    AMEDI = AMEDI / N\n",
    "\n",
    "    sig = 0.0\n",
    "\n",
    "    for I in range(0, N):\n",
    "        sig += (am[I] - AMEDI)**2\n",
    "\n",
    "    sig = math.sqrt(sig / N)\n",
    "\n",
    "    #print(sig,AMEDI,N)\n",
    "\n",
    "    fny = 1000000.0 / (2 * tpas)\n",
    "    delnu = 1.0e6 / (n * tpas)\n",
    "    ji = math.floor(anuino / delnu)\n",
    "    anuin = ji * delnu\n",
    "    jf = math.floor(anufio / delnu)\n",
    "    NP = jf - ji\n",
    "\n",
    "    #print('Frequencies, data, days, Ny')\n",
    "    #print(NP, N, N * tpas / 86400.0, fny)\n",
    "\n",
    "    F = anuin\n",
    "    BMAX = 0.0\n",
    "\n",
    "    it = 0\n",
    "    print(\"Iterations: \",NP,\"x\",N,\"=\",NP*N)\n",
    "    for J in tqdm(range(0, NP),desc=\"NP\",leave=False):\n",
    "        rci = 0.0\n",
    "        cci = 0.0\n",
    "        rmi = 0.0\n",
    "        rci1 = 0.0\n",
    "        rci2 = 0.0\n",
    "        rci3 = 0.0\n",
    "\n",
    "        rci,cci,rmi,rci1,rci2,rci3 = fNinner(N,J,am,ji,dpi,rci,cci,rmi,rci1,rci2,rci3)\n",
    "        \n",
    "        rci = rci * 2.0 / n\n",
    "        cci = cci * 2.0 / n\n",
    "        rmi = rmi * 2.0 / n\n",
    "        rci2 = rci2 * 2.0 / n\n",
    "        rci3 = rci3 * 2.0 / n\n",
    "        rci1 = rci1 * 2.0 / n\n",
    "\n",
    "        b = rci**2 + cci**2\n",
    "        Bg = rmi**2 + (rci2**2 + rci1**2 + rci3**2)\n",
    "\n",
    "        F = anuin + (J - 1) * delnu\n",
    "        if Bg > BMAX:\n",
    "            FMAX = F\n",
    "            BMAX = Bg\n",
    "            jmax = J\n",
    "\n",
    "        FDAT[J] = float(F)\n",
    "        TRADAT[J] = float(b)\n",
    "        TRADATg[J] = float(Bg)\n",
    "    \n",
    "    with open(output_file, 'w') as file_out:\n",
    "        for I in range(0, NP):\n",
    "            file_out.write(f\"{FDAT[I]} {TRADAT[I]} {TRADATg[I]}\\n\")\n",
    "\n",
    "    return FDAT,TRADAT,TRADATg\n",
    "\n"
   ]
  },
  {
   "cell_type": "markdown",
   "id": "d55ef310-223b-4f01-821b-874594ecdc0f",
   "metadata": {},
   "source": [
    "## Configure input parameters and output file\n",
    "Modify these params and then run the next cell.\n",
    "⚠️ This process will take about 2 hours."
   ]
  },
  {
   "cell_type": "code",
   "execution_count": null,
   "id": "639b4846-1990-480a-a667-87cfdf84f78a",
   "metadata": {
    "tags": []
   },
   "outputs": [],
   "source": [
    "output_file = 'ps_output.dgt'\n",
    "input_file = \"golfsel1.dat\"\n",
    "anuino = 0\n",
    "anufio = 25000\n",
    "rti = 16\n",
    "tpas = 20\n",
    "\n",
    "FDAT,TRADAT,TRADATg = quaternion(input_file,anuino,anufio,rti,tpas,output_file)"
   ]
  },
  {
   "cell_type": "markdown",
   "id": "fd8c22c2-cbb6-42ad-8a76-d5f2e8d015a1",
   "metadata": {},
   "source": [
    "## Create a plot of the output data"
   ]
  },
  {
   "cell_type": "code",
   "execution_count": null,
   "id": "dcf29f4e-015b-4456-a586-143aab2771df",
   "metadata": {},
   "outputs": [],
   "source": [
    "import matplotlib.pyplot as plt\n",
    "\n",
    "c1,c2,c3 = np.loadtxt(\"ps_output.dgt\",unpack=True)\n",
    "\n",
    "fig, (ax1, ax2) = plt.subplots(2, 1,figsize=(10,10))\n",
    "\n",
    "\n",
    "ax1.plot(np.log10(c1), np.log10(c2), 'b-')\n",
    "ax1.set_ylabel('Log Power')\n",
    "\n",
    "ax2.plot(np.log10(c1), np.log10(c3), 'r-')\n",
    "ax2.set_xlabel('Log Frequency $\\mu$Hz')\n",
    "ax2.set_ylabel('Log Power')\n",
    "plt.savefig(\"powerspectrum_18_5.png\")\n",
    "plt.show()"
   ]
  }
 ],
 "metadata": {
  "kernelspec": {
   "display_name": "Python 3 (ipykernel)",
   "language": "python",
   "name": "python3"
  },
  "language_info": {
   "codemirror_mode": {
    "name": "ipython",
    "version": 3
   },
   "file_extension": ".py",
   "mimetype": "text/x-python",
   "name": "python",
   "nbconvert_exporter": "python",
   "pygments_lexer": "ipython3",
   "version": "3.11.5"
  }
 },
 "nbformat": 4,
 "nbformat_minor": 5
}
